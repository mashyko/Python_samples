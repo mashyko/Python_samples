{
  "nbformat": 4,
  "nbformat_minor": 0,
  "metadata": {
    "colab": {
      "name": "Python_sample.ipynb",
      "provenance": [],
      "collapsed_sections": [],
      "authorship_tag": "ABX9TyMxb320HZLP+yH3cxz3pixb",
      "include_colab_link": true
    },
    "kernelspec": {
      "name": "python3",
      "display_name": "Python 3"
    }
  },
  "cells": [
    {
      "cell_type": "markdown",
      "metadata": {
        "id": "view-in-github",
        "colab_type": "text"
      },
      "source": [
        "<a href=\"https://colab.research.google.com/github/mashyko/Python_samples/blob/main/Python_sample.ipynb\" target=\"_parent\"><img src=\"https://colab.research.google.com/assets/colab-badge.svg\" alt=\"Open In Colab\"/></a>"
      ]
    },
    {
      "cell_type": "markdown",
      "metadata": {
        "id": "SyfU0c68jF5p"
      },
      "source": [
        "# sample codes for python 3.x"
      ]
    },
    {
      "cell_type": "code",
      "metadata": {
        "colab": {
          "base_uri": "https://localhost:8080/"
        },
        "id": "oGh171-1i5Rp",
        "outputId": "d7839d8b-ea6b-4a45-9db9-115504a854e9"
      },
      "source": [
        "\n",
        "\n",
        "# how to use the index\n",
        "\n",
        "name = [\"cheese\", \"John\"]\n",
        "y=20\n",
        "z=15\n",
        "x = [[1,2,3],[y,z],[[[]]]]\n",
        "print (name[1],name[0])\n",
        "name = \"Smith\"\n",
        "x=[\"spam\",\"spam\",\"spam\",\"spam\",\"spam\",\"egg\",\"and\",\"spam\"]\n",
        "print (x[5:7])\n",
        "print (x[5],x[6],x[7])\n"
      ],
      "execution_count": null,
      "outputs": [
        {
          "output_type": "stream",
          "text": [
            "John cheese\n",
            "['egg', 'and']\n",
            "egg and spam\n"
          ],
          "name": "stdout"
        }
      ]
    },
    {
      "cell_type": "code",
      "metadata": {
        "id": "3M71LDkXjQTD"
      },
      "source": [
        "# \"if\" and \"while\" sentences\n",
        "x=15\n",
        "print (x)\n",
        "if x < 5 or (x > 10 and x <20):\n",
        " print (\"the value is ok.\")\n",
        "\n",
        "while x >= 0:\n",
        "   print (\"x is still not negative.\")\n",
        "   x = x -1\n",
        "print (x)\n",
        "\n",
        "\n"
      ],
      "execution_count": null,
      "outputs": []
    },
    {
      "cell_type": "code",
      "metadata": {
        "colab": {
          "base_uri": "https://localhost:8080/"
        },
        "id": "9LyNp3omjlVx",
        "outputId": "7a901e0c-b3f5-4a9d-cbe1-3afbd6c91d1b"
      },
      "source": [
        "# the \"for\" sentence\n",
        "for i in [1,2,3,4,5]:\n",
        "    print (\"This is iteration number.\",i)\n",
        "\n",
        "#Print out the value from 0 to 19 inclusive.\n",
        "for value in range(20):\n",
        "    print (value,)"
      ],
      "execution_count": null,
      "outputs": [
        {
          "output_type": "stream",
          "text": [
            "This is iteration number. 1\n",
            "This is iteration number. 2\n",
            "This is iteration number. 3\n",
            "This is iteration number. 4\n",
            "This is iteration number. 5\n",
            "0\n",
            "1\n",
            "2\n",
            "3\n",
            "4\n",
            "5\n",
            "6\n",
            "7\n",
            "8\n",
            "9\n",
            "10\n",
            "11\n",
            "12\n",
            "13\n",
            "14\n",
            "15\n",
            "16\n",
            "17\n",
            "18\n",
            "19\n"
          ],
          "name": "stdout"
        }
      ]
    },
    {
      "cell_type": "code",
      "metadata": {
        "colab": {
          "base_uri": "https://localhost:8080/"
        },
        "id": "1CI9S_4Ej4Sp",
        "outputId": "6fb9adc5-fff6-484f-e925-eb9b2dbe38ab"
      },
      "source": [
        "# definition of function\n",
        "def change(y):\n",
        "    y[1]=4\n",
        "x=[1,2,3]\n",
        "change(x)\n",
        "print (x)\n",
        "\n",
        "# Fibonachi sseries\n",
        "def fib(n):\n",
        "    a,b=0,1\n",
        "    while b < n:\n",
        "     print (b,)\n",
        "     a,b=b,a+b\n",
        "print (\"Fibonachi number :\")\n",
        "fib(2000)\n"
      ],
      "execution_count": null,
      "outputs": [
        {
          "output_type": "stream",
          "text": [
            "[1, 4, 3]\n",
            "Fibonachi number :\n",
            "1\n",
            "1\n",
            "2\n",
            "3\n",
            "5\n",
            "8\n",
            "13\n",
            "21\n",
            "34\n",
            "55\n",
            "89\n",
            "144\n",
            "233\n",
            "377\n",
            "610\n",
            "987\n",
            "1597\n"
          ],
          "name": "stdout"
        }
      ]
    },
    {
      "cell_type": "code",
      "metadata": {
        "id": "BzFNoOhLkZQE"
      },
      "source": [
        ""
      ],
      "execution_count": null,
      "outputs": []
    }
  ]
}