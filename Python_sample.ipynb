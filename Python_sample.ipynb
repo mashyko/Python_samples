{
  "nbformat": 4,
  "nbformat_minor": 0,
  "metadata": {
    "colab": {
      "provenance": [],
      "collapsed_sections": [],
      "authorship_tag": "ABX9TyOAUDPiy1a4YD14PoPIdUS1",
      "include_colab_link": true
    },
    "kernelspec": {
      "name": "python3",
      "display_name": "Python 3"
    }
  },
  "cells": [
    {
      "cell_type": "markdown",
      "metadata": {
        "id": "view-in-github",
        "colab_type": "text"
      },
      "source": [
        "<a href=\"https://colab.research.google.com/github/mashyko/Python_samples/blob/main/Python_sample.ipynb\" target=\"_parent\"><img src=\"https://colab.research.google.com/assets/colab-badge.svg\" alt=\"Open In Colab\"/></a>"
      ]
    },
    {
      "cell_type": "markdown",
      "metadata": {
        "id": "SyfU0c68jF5p"
      },
      "source": [
        "# sample codes for python 3.x"
      ]
    },
    {
      "cell_type": "code",
      "source": [
        "x='Hello World.'\n",
        "y='Good Day!'\n",
        "z=x+y\n",
        "print(z)"
      ],
      "metadata": {
        "id": "sLf-2mYGUp9W",
        "outputId": "ba633ec0-fd95-42b2-feb1-c02d00a4e49c",
        "colab": {
          "base_uri": "https://localhost:8080/"
        }
      },
      "execution_count": null,
      "outputs": [
        {
          "output_type": "stream",
          "name": "stdout",
          "text": [
            "Hello World.Good Day!\n"
          ]
        }
      ]
    },
    {
      "cell_type": "code",
      "source": [
        "b=['spam', 'eggs', 100, 1234]\n",
        "\n",
        "print (b[1])"
      ],
      "metadata": {
        "id": "Kvfp9VGoVUEi",
        "outputId": "89ea40d9-120f-4e56-a0d1-ddedb11a101a",
        "colab": {
          "base_uri": "https://localhost:8080/"
        }
      },
      "execution_count": 1,
      "outputs": [
        {
          "output_type": "stream",
          "name": "stdout",
          "text": [
            "eggs\n"
          ]
        }
      ]
    },
    {
      "cell_type": "code",
      "source": [
        "a=[1.0,2.0,3.0,4.0]\n",
        "\n",
        "a[2]=20.0\n",
        "a[2]=a[2]+20.0\n",
        "\n",
        "print(a)\n"
      ],
      "metadata": {
        "colab": {
          "base_uri": "https://localhost:8080/"
        },
        "id": "keado52mXoXp",
        "outputId": "3f01c851-993d-477c-bdc9-95c218825e28"
      },
      "execution_count": 2,
      "outputs": [
        {
          "output_type": "stream",
          "name": "stdout",
          "text": [
            "[1.0, 2.0, 40.0, 4.0]\n"
          ]
        }
      ]
    },
    {
      "cell_type": "code",
      "source": [
        "x = [1.0,2.0,3.0,4.0,5.0]\n",
        "\n",
        "print(x[1:3])\n",
        "print(x[:4])\n",
        "print(x[2:])\n"
      ],
      "metadata": {
        "colab": {
          "base_uri": "https://localhost:8080/"
        },
        "id": "MA05P8oZX4sX",
        "outputId": "c4ef9004-7e6c-48b6-fa27-b094fc1c3228"
      },
      "execution_count": 5,
      "outputs": [
        {
          "output_type": "stream",
          "name": "stdout",
          "text": [
            "[2.0, 3.0]\n",
            "[1.0, 2.0, 3.0, 4.0]\n",
            "[3.0, 4.0, 5.0]\n"
          ]
        }
      ]
    },
    {
      "cell_type": "code",
      "source": [
        "y=[0.1,0.2]\n",
        "\n",
        "z=x+y\n",
        "\n",
        "print (z)"
      ],
      "metadata": {
        "colab": {
          "base_uri": "https://localhost:8080/"
        },
        "id": "MhekIQihYVgA",
        "outputId": "5f96ad84-aeb4-43aa-dba4-6017e5ab6c39"
      },
      "execution_count": 6,
      "outputs": [
        {
          "output_type": "stream",
          "name": "stdout",
          "text": [
            "[1.0, 2.0, 3.0, 4.0, 5.0, 0.1, 0.2]\n"
          ]
        }
      ]
    },
    {
      "cell_type": "code",
      "source": [
        "del z[2]\n",
        "print (z)\n",
        "\n",
        "print(max(z))"
      ],
      "metadata": {
        "colab": {
          "base_uri": "https://localhost:8080/"
        },
        "id": "zaA81fuNY_OS",
        "outputId": "51fd78bc-c714-44b0-98f4-343ead00e74b"
      },
      "execution_count": 7,
      "outputs": [
        {
          "output_type": "stream",
          "name": "stdout",
          "text": [
            "[1.0, 2.0, 4.0, 5.0, 0.1, 0.2]\n",
            "5.0\n"
          ]
        }
      ]
    },
    {
      "cell_type": "code",
      "metadata": {
        "colab": {
          "base_uri": "https://localhost:8080/"
        },
        "id": "oGh171-1i5Rp",
        "outputId": "7c86ea78-9c39-4fd1-f588-0073a3d841ab"
      },
      "source": [
        "# how to use the index\n",
        "\n",
        "name = [\"cheese\", \"John\"]\n",
        "y=20\n",
        "z=15\n",
        "x = [[1,2,3],[y,z],[[[]]]]\n",
        "print (name[1],name[0])\n",
        "name = \"Smith\"\n",
        "x=[\"spam\",\"spam\",\"spam\",\"spam\",\"spam\",\"egg\",\"and\",\"spam\"]\n",
        "print (x[5:7])\n",
        "print (x[5],x[6],x[7])\n"
      ],
      "execution_count": 8,
      "outputs": [
        {
          "output_type": "stream",
          "name": "stdout",
          "text": [
            "John cheese\n",
            "['egg', 'and']\n",
            "egg and spam\n"
          ]
        }
      ]
    },
    {
      "cell_type": "code",
      "source": [
        "# Fibonachi sseries\n",
        "\n",
        "a,b=0,1\n",
        "\n",
        "while b < 10:\n",
        "    print (b)\n",
        "    a, b=b, a+b"
      ],
      "metadata": {
        "id": "0LajJBjHWT3z",
        "colab": {
          "base_uri": "https://localhost:8080/"
        },
        "outputId": "06f08037-e224-404a-9ed4-956de9c6dbdc"
      },
      "execution_count": 9,
      "outputs": [
        {
          "output_type": "stream",
          "name": "stdout",
          "text": [
            "1\n",
            "1\n",
            "2\n",
            "3\n",
            "5\n",
            "8\n"
          ]
        }
      ]
    },
    {
      "cell_type": "code",
      "metadata": {
        "id": "3M71LDkXjQTD",
        "colab": {
          "base_uri": "https://localhost:8080/"
        },
        "outputId": "7c62ce65-a986-48f8-d70b-00239f9999f0"
      },
      "source": [
        "# \"if\" and \"while\" sentences\n",
        "x=15\n",
        "print (x)\n",
        "if x < 5 or (x > 10 and x <20):\n",
        " print (\"the value is ok.\")\n",
        "\n",
        "while x >= 0:\n",
        "   print (\"x is still not negative.\")\n",
        "   x = x -1\n",
        "print (x)\n"
      ],
      "execution_count": 10,
      "outputs": [
        {
          "output_type": "stream",
          "name": "stdout",
          "text": [
            "15\n",
            "the value is ok.\n",
            "x is still not negative.\n",
            "x is still not negative.\n",
            "x is still not negative.\n",
            "x is still not negative.\n",
            "x is still not negative.\n",
            "x is still not negative.\n",
            "x is still not negative.\n",
            "x is still not negative.\n",
            "x is still not negative.\n",
            "x is still not negative.\n",
            "x is still not negative.\n",
            "x is still not negative.\n",
            "x is still not negative.\n",
            "x is still not negative.\n",
            "x is still not negative.\n",
            "x is still not negative.\n",
            "-1\n"
          ]
        }
      ]
    },
    {
      "cell_type": "code",
      "source": [
        "# the \"for\" sentence\n",
        "for i in [1,2,3,4,5]:\n",
        "    print (\"This is iteration number.\",i)\n",
        "\n",
        "#Print out the value from 0 to 49 inclusive.\n",
        "for value in range(50):\n",
        "    print (value,)\n",
        "\t"
      ],
      "metadata": {
        "colab": {
          "base_uri": "https://localhost:8080/"
        },
        "id": "14EPTNyrZODz",
        "outputId": "13658595-d102-4309-c153-79644c007887"
      },
      "execution_count": 12,
      "outputs": [
        {
          "output_type": "stream",
          "name": "stdout",
          "text": [
            "This is iteration number. 1\n",
            "This is iteration number. 2\n",
            "This is iteration number. 3\n",
            "This is iteration number. 4\n",
            "This is iteration number. 5\n",
            "0\n",
            "1\n",
            "2\n",
            "3\n",
            "4\n",
            "5\n",
            "6\n",
            "7\n",
            "8\n",
            "9\n",
            "10\n",
            "11\n",
            "12\n",
            "13\n",
            "14\n",
            "15\n",
            "16\n",
            "17\n",
            "18\n",
            "19\n",
            "20\n",
            "21\n",
            "22\n",
            "23\n",
            "24\n",
            "25\n",
            "26\n",
            "27\n",
            "28\n",
            "29\n",
            "30\n",
            "31\n",
            "32\n",
            "33\n",
            "34\n",
            "35\n",
            "36\n",
            "37\n",
            "38\n",
            "39\n",
            "40\n",
            "41\n",
            "42\n",
            "43\n",
            "44\n",
            "45\n",
            "46\n",
            "47\n",
            "48\n",
            "49\n"
          ]
        }
      ]
    },
    {
      "cell_type": "code",
      "source": [
        "# \"if\" sentences\n",
        "x=int(input('整数を入力して下さい: '))\n",
        "if x < 0: \n",
        "  x = 0  \n",
        "  print('負の整数なので、ゼロとした') \n",
        "elif x == 0: \n",
        "  print('ゼロ') \n",
        "else : \n",
        "  print(x,'は正の整数です') "
      ],
      "metadata": {
        "colab": {
          "base_uri": "https://localhost:8080/"
        },
        "id": "pJkTUBZuciyM",
        "outputId": "19b030a8-1a12-46ad-eea3-4fb4941d3d4f"
      },
      "execution_count": 13,
      "outputs": [
        {
          "output_type": "stream",
          "name": "stdout",
          "text": [
            "整数を入力して下さい: 8\n",
            "8 は正の整数です\n"
          ]
        }
      ]
    },
    {
      "cell_type": "code",
      "metadata": {
        "colab": {
          "base_uri": "https://localhost:8080/"
        },
        "id": "1CI9S_4Ej4Sp",
        "outputId": "6fb9adc5-fff6-484f-e925-eb9b2dbe38ab"
      },
      "source": [
        "# definition of function\n",
        "def change(y):\n",
        "    y[1]=4\n",
        "x=[1,2,3]\n",
        "change(x)\n",
        "print (x)\n",
        "\n",
        "# Fibonachi sseries\n",
        "def fib(n):\n",
        "    a,b=0,1\n",
        "    while b < n:\n",
        "     print (b,)\n",
        "     a,b=b,a+b\n",
        "print (\"Fibonachi number :\")\n",
        "fib(2000)\n"
      ],
      "execution_count": null,
      "outputs": [
        {
          "output_type": "stream",
          "text": [
            "[1, 4, 3]\n",
            "Fibonachi number :\n",
            "1\n",
            "1\n",
            "2\n",
            "3\n",
            "5\n",
            "8\n",
            "13\n",
            "21\n",
            "34\n",
            "55\n",
            "89\n",
            "144\n",
            "233\n",
            "377\n",
            "610\n",
            "987\n",
            "1597\n"
          ],
          "name": "stdout"
        }
      ]
    },
    {
      "cell_type": "code",
      "source": [
        "class Person(object):\n",
        "    def say_hello(self):\n",
        "        print('Hello')\n",
        "\n",
        "person_1=Person()   # オブジェクトの作成\n",
        "person_1.say_hello()  # オブジェクトからメソッドを呼び出す"
      ],
      "metadata": {
        "colab": {
          "base_uri": "https://localhost:8080/"
        },
        "id": "gvVdci7SdHXK",
        "outputId": "024b09d0-2bd0-45a7-e928-b66eca0f2e6d"
      },
      "execution_count": 14,
      "outputs": [
        {
          "output_type": "stream",
          "name": "stdout",
          "text": [
            "Hello\n"
          ]
        }
      ]
    },
    {
      "cell_type": "code",
      "source": [
        "class Person(object):#Person というクラス名\n",
        "    def __init__(self, name, age):#初期化メソッド\n",
        "        self.name = name #name を付ける\n",
        "        self.age = age # age を付ける\n",
        "    def hello(self):\n",
        "        print('こんにちは{}さん！'.format(self.name))\n",
        "\n",
        "person_1 =Person('加藤', '40')\n",
        "person_1.hello()"
      ],
      "metadata": {
        "colab": {
          "base_uri": "https://localhost:8080/"
        },
        "id": "yMMUhS-Hdo3N",
        "outputId": "174e38a9-dbc9-4254-fdff-d6898f258ccb"
      },
      "execution_count": 15,
      "outputs": [
        {
          "output_type": "stream",
          "name": "stdout",
          "text": [
            "こんにちは加藤さん！\n"
          ]
        }
      ]
    },
    {
      "cell_type": "code",
      "source": [
        "class Person:\n",
        "    def __init__(self, name, age):\n",
        "        self.name = name\n",
        "        self.age = age\n",
        "\n",
        "    def say_hello(self):\n",
        "        print(f\"Hello, I'm {self.name}!\")\n",
        "\n",
        "\n",
        "class Employee(Person):\n",
        "    def __init__(self, name, age, department):\n",
        "        super().__init__(name, age)\n",
        "        self.department = department\n",
        "\n",
        "\n",
        "emp1 = Employee(\"John\", 30, \"Sales\")\n",
        "\n",
        "print(emp1.name)\n",
        "print(emp1.age)\n",
        "print(emp1.department)\n",
        "emp1.say_hello()"
      ],
      "metadata": {
        "colab": {
          "base_uri": "https://localhost:8080/"
        },
        "id": "hXQrNEBSdyl4",
        "outputId": "fb2dcaa9-a402-447e-c1f0-83c3a22ee437"
      },
      "execution_count": 16,
      "outputs": [
        {
          "output_type": "stream",
          "name": "stdout",
          "text": [
            "John\n",
            "30\n",
            "Sales\n",
            "Hello, I'm John!\n"
          ]
        }
      ]
    },
    {
      "cell_type": "code",
      "metadata": {
        "id": "BzFNoOhLkZQE",
        "colab": {
          "base_uri": "https://localhost:8080/",
          "height": 573
        },
        "outputId": "bbb5a63b-8e15-4e2b-f819-79ffe2ce3b46"
      },
      "source": [
        "#an example of matplotlib usage \n",
        " \n",
        "import numpy as np \n",
        "import matplotlib.pyplot as plt  \n",
        " \n",
        "t = np.arange(0.0, 2.0, 0.01) \n",
        "s = np.sin(2*np.pi*t)\n",
        " \n",
        "plt.plot(t, s)\n",
        "plt.title('sin(s)') \n",
        "plt.xlabel('time (s)')  \n",
        "plt.ylabel('volts (mV)')         \n",
        "plt.grid(True) \n",
        "plt.show()\n",
        "\n",
        "# an example of pylab \n",
        "from pylab import *\n",
        "\n",
        "t = np.arange(0.0, 2.0, 0.01)\n",
        "s = np.sin(2*np.pi*t)\n",
        "plot(t, s)\n",
        "\n",
        "xlabel('time (s)')\n",
        "ylabel('voltage (mV)')\n",
        "title('About as simple as it gets, folks')\n",
        "grid(True)\n",
        "savefig(\"test.png\")\n",
        "show()\n"
      ],
      "execution_count": null,
      "outputs": [
        {
          "output_type": "display_data",
          "data": {
            "text/plain": [
              "<Figure size 432x288 with 1 Axes>"
            ],
            "image/png": "[encoded data removed]"
          },
          "metadata": {
            "needs_background": "light"
          }
        },
        {
          "output_type": "display_data",
          "data": {
            "text/plain": [
              "<Figure size 432x288 with 1 Axes>"
            ],
            "image/png": "[encoded data removed]"
          },
          "metadata": {
            "needs_background": "light"
          }
        }
      ]
    },
    {
      "cell_type": "code",
      "source": [
        "\"\"\"\n",
        "Simple demo with multiple subplots.\n",
        "\"\"\"\n",
        "import numpy as np\n",
        "import matplotlib.pyplot as plt\n",
        "\n",
        "\n",
        "x1 = np.linspace(0.0, 5.0)\n",
        "x2 = np.linspace(0.0, 2.0)\n",
        "\n",
        "y1 = np.cos(2 * np.pi * x1) * np.exp(-x1)\n",
        "y2 = np.cos(2 * np.pi * x2)\n",
        "\n",
        "plt.subplot(2, 1, 1)\n",
        "plt.plot(x1, y1, 'yo-')\n",
        "plt.title('A tale of 2 subplots')\n",
        "plt.ylabel('Damped oscillation')\n",
        "\n",
        "plt.subplot(2, 1, 2)\n",
        "plt.plot(x2, y2, 'r.-')\n",
        "plt.xlabel('time (s)')\n",
        "plt.ylabel('Undamped')\n",
        "\n",
        "plt.show()\n"
      ],
      "metadata": {
        "colab": {
          "base_uri": "https://localhost:8080/",
          "height": 295
        },
        "id": "mtNBdvugW3Ou",
        "outputId": "27caf2a0-7c1b-4a35-96dc-425aa9373f60"
      },
      "execution_count": null,
      "outputs": [
        {
          "output_type": "display_data",
          "data": {
            "text/plain": [
              "<Figure size 432x288 with 2 Axes>"
            ],
            "image/png": "[encoded data removed]"
          },
          "metadata": {
            "needs_background": "light"
          }
        }
      ]
    }
  ]
}